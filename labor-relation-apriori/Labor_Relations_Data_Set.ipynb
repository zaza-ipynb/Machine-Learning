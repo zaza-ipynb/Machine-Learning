{
  "nbformat": 4,
  "nbformat_minor": 0,
  "metadata": {
    "colab": {
      "name": " Labor Relations Data Set.ipynb",
      "provenance": [],
      "collapsed_sections": [],
      "toc_visible": true
    },
    "kernelspec": {
      "display_name": "Python 3",
      "language": "python",
      "name": "python3"
    },
    "language_info": {
      "codemirror_mode": {
        "name": "ipython",
        "version": 3
      },
      "file_extension": ".py",
      "mimetype": "text/x-python",
      "name": "python",
      "nbconvert_exporter": "python",
      "pygments_lexer": "ipython3",
      "version": "3.7.4"
    },
    "accelerator": "GPU"
  },
  "cells": [
    {
      "cell_type": "code",
      "metadata": {
        "id": "lz8j6_bUdHb0"
      },
      "source": [
        "import pandas as pd\n",
        "import seaborn as sns\n",
        "import warnings\n",
        "import numpy as np\n",
        "import missingno as msno\n",
        "warnings.filterwarnings('ignore')"
      ],
      "execution_count": null,
      "outputs": []
    },
    {
      "cell_type": "code",
      "metadata": {
        "id": "q7lFUQ7YdHb8"
      },
      "source": [
        "columns = [\"dur\",\"wage1\",\"wage2\",\"wage3\",\"cola\",\"hours\",\"pension\",\"stby_pay\",\"shift_diff\",\n",
        "           \"educ_allw\",\"holidays\",\"vacation\",\"lngtrm_disabil\",\"dntl_ins\",\"bereavement\",\"empl_hplan\",\"class\"]\n",
        "\n",
        "df =pd.read_csv('labor-neg.data', header=None, names=columns, skipinitialspace=True)"
      ],
      "execution_count": null,
      "outputs": []
    },
    {
      "cell_type": "code",
      "metadata": {
        "id": "RvmLhstFdHb9",
        "colab": {
          "base_uri": "https://localhost:8080/",
          "height": 204
        },
        "outputId": "2a10be50-e5c2-4cac-c98d-6ed2e41f4f50"
      },
      "source": [
        "df.head()"
      ],
      "execution_count": null,
      "outputs": [
        {
          "output_type": "execute_result",
          "data": {
            "text/html": [
              "<div>\n",
              "<style scoped>\n",
              "    .dataframe tbody tr th:only-of-type {\n",
              "        vertical-align: middle;\n",
              "    }\n",
              "\n",
              "    .dataframe tbody tr th {\n",
              "        vertical-align: top;\n",
              "    }\n",
              "\n",
              "    .dataframe thead th {\n",
              "        text-align: right;\n",
              "    }\n",
              "</style>\n",
              "<table border=\"1\" class=\"dataframe\">\n",
              "  <thead>\n",
              "    <tr style=\"text-align: right;\">\n",
              "      <th></th>\n",
              "      <th>dur</th>\n",
              "      <th>wage1</th>\n",
              "      <th>wage2</th>\n",
              "      <th>wage3</th>\n",
              "      <th>cola</th>\n",
              "      <th>hours</th>\n",
              "      <th>pension</th>\n",
              "      <th>stby_pay</th>\n",
              "      <th>shift_diff</th>\n",
              "      <th>educ_allw</th>\n",
              "      <th>holidays</th>\n",
              "      <th>vacation</th>\n",
              "      <th>lngtrm_disabil</th>\n",
              "      <th>dntl_ins</th>\n",
              "      <th>bereavement</th>\n",
              "      <th>empl_hplan</th>\n",
              "      <th>class</th>\n",
              "    </tr>\n",
              "  </thead>\n",
              "  <tbody>\n",
              "    <tr>\n",
              "      <th>0</th>\n",
              "      <td>1</td>\n",
              "      <td>5.0</td>\n",
              "      <td>?</td>\n",
              "      <td>?</td>\n",
              "      <td>?</td>\n",
              "      <td>40</td>\n",
              "      <td>?</td>\n",
              "      <td>?</td>\n",
              "      <td>2</td>\n",
              "      <td>?</td>\n",
              "      <td>11</td>\n",
              "      <td>average</td>\n",
              "      <td>?</td>\n",
              "      <td>?</td>\n",
              "      <td>yes</td>\n",
              "      <td>?</td>\n",
              "      <td>good</td>\n",
              "    </tr>\n",
              "    <tr>\n",
              "      <th>1</th>\n",
              "      <td>2</td>\n",
              "      <td>4.5</td>\n",
              "      <td>5.8</td>\n",
              "      <td>?</td>\n",
              "      <td>?</td>\n",
              "      <td>35</td>\n",
              "      <td>ret_allw</td>\n",
              "      <td>?</td>\n",
              "      <td>?</td>\n",
              "      <td>yes</td>\n",
              "      <td>11</td>\n",
              "      <td>below average</td>\n",
              "      <td>?</td>\n",
              "      <td>full</td>\n",
              "      <td>?</td>\n",
              "      <td>full</td>\n",
              "      <td>good</td>\n",
              "    </tr>\n",
              "    <tr>\n",
              "      <th>2</th>\n",
              "      <td>?</td>\n",
              "      <td>?</td>\n",
              "      <td>?</td>\n",
              "      <td>?</td>\n",
              "      <td>?</td>\n",
              "      <td>38</td>\n",
              "      <td>empl_contr</td>\n",
              "      <td>?</td>\n",
              "      <td>5</td>\n",
              "      <td>?</td>\n",
              "      <td>11</td>\n",
              "      <td>generous</td>\n",
              "      <td>yes</td>\n",
              "      <td>half</td>\n",
              "      <td>yes</td>\n",
              "      <td>half</td>\n",
              "      <td>good</td>\n",
              "    </tr>\n",
              "    <tr>\n",
              "      <th>3</th>\n",
              "      <td>3</td>\n",
              "      <td>3.7</td>\n",
              "      <td>4.0</td>\n",
              "      <td>5.0</td>\n",
              "      <td>tc</td>\n",
              "      <td>?</td>\n",
              "      <td>?</td>\n",
              "      <td>?</td>\n",
              "      <td>?</td>\n",
              "      <td>yes</td>\n",
              "      <td>?</td>\n",
              "      <td>?</td>\n",
              "      <td>?</td>\n",
              "      <td>?</td>\n",
              "      <td>yes</td>\n",
              "      <td>?</td>\n",
              "      <td>good</td>\n",
              "    </tr>\n",
              "    <tr>\n",
              "      <th>4</th>\n",
              "      <td>3</td>\n",
              "      <td>4.5</td>\n",
              "      <td>4.5</td>\n",
              "      <td>5.0</td>\n",
              "      <td>?</td>\n",
              "      <td>40</td>\n",
              "      <td>?</td>\n",
              "      <td>?</td>\n",
              "      <td>?</td>\n",
              "      <td>?</td>\n",
              "      <td>12</td>\n",
              "      <td>average</td>\n",
              "      <td>?</td>\n",
              "      <td>half</td>\n",
              "      <td>yes</td>\n",
              "      <td>half</td>\n",
              "      <td>good</td>\n",
              "    </tr>\n",
              "  </tbody>\n",
              "</table>\n",
              "</div>"
            ],
            "text/plain": [
              "  dur wage1 wage2 wage3  ... dntl_ins bereavement empl_hplan class\n",
              "0   1   5.0     ?     ?  ...        ?         yes          ?  good\n",
              "1   2   4.5   5.8     ?  ...     full           ?       full  good\n",
              "2   ?     ?     ?     ?  ...     half         yes       half  good\n",
              "3   3   3.7   4.0   5.0  ...        ?         yes          ?  good\n",
              "4   3   4.5   4.5   5.0  ...     half         yes       half  good\n",
              "\n",
              "[5 rows x 17 columns]"
            ]
          },
          "metadata": {
            "tags": []
          },
          "execution_count": 3
        }
      ]
    },
    {
      "cell_type": "markdown",
      "metadata": {
        "id": "tknDm874dHb-"
      },
      "source": [
        "<h3>EDA"
      ]
    },
    {
      "cell_type": "code",
      "metadata": {
        "id": "X8jC1mkgdHb-",
        "colab": {
          "base_uri": "https://localhost:8080/"
        },
        "outputId": "c8222318-87cc-46a9-9ba9-7ccb758dc69b"
      },
      "source": [
        "df.shape"
      ],
      "execution_count": null,
      "outputs": [
        {
          "output_type": "execute_result",
          "data": {
            "text/plain": [
              "(40, 17)"
            ]
          },
          "metadata": {
            "tags": []
          },
          "execution_count": 4
        }
      ]
    },
    {
      "cell_type": "code",
      "metadata": {
        "id": "ieithhi9dHb_",
        "colab": {
          "base_uri": "https://localhost:8080/"
        },
        "outputId": "c6088d4f-48c4-42e3-e3c1-93421f9b5903"
      },
      "source": [
        "df.info()"
      ],
      "execution_count": null,
      "outputs": [
        {
          "output_type": "stream",
          "text": [
            "<class 'pandas.core.frame.DataFrame'>\n",
            "RangeIndex: 40 entries, 0 to 39\n",
            "Data columns (total 17 columns):\n",
            " #   Column          Non-Null Count  Dtype \n",
            "---  ------          --------------  ----- \n",
            " 0   dur             40 non-null     object\n",
            " 1   wage1           40 non-null     object\n",
            " 2   wage2           40 non-null     object\n",
            " 3   wage3           40 non-null     object\n",
            " 4   cola            40 non-null     object\n",
            " 5   hours           40 non-null     object\n",
            " 6   pension         40 non-null     object\n",
            " 7   stby_pay        40 non-null     object\n",
            " 8   shift_diff      40 non-null     object\n",
            " 9   educ_allw       40 non-null     object\n",
            " 10  holidays        40 non-null     object\n",
            " 11  vacation        40 non-null     object\n",
            " 12  lngtrm_disabil  40 non-null     object\n",
            " 13  dntl_ins        40 non-null     object\n",
            " 14  bereavement     40 non-null     object\n",
            " 15  empl_hplan      40 non-null     object\n",
            " 16  class           40 non-null     object\n",
            "dtypes: object(17)\n",
            "memory usage: 5.4+ KB\n"
          ],
          "name": "stdout"
        }
      ]
    },
    {
      "cell_type": "code",
      "metadata": {
        "id": "G6dda2yUdHb_",
        "colab": {
          "base_uri": "https://localhost:8080/",
          "height": 576
        },
        "outputId": "57b61877-078c-4e18-8e7a-31f489ca907a"
      },
      "source": [
        "df.describe().T"
      ],
      "execution_count": null,
      "outputs": [
        {
          "output_type": "execute_result",
          "data": {
            "text/html": [
              "<div>\n",
              "<style scoped>\n",
              "    .dataframe tbody tr th:only-of-type {\n",
              "        vertical-align: middle;\n",
              "    }\n",
              "\n",
              "    .dataframe tbody tr th {\n",
              "        vertical-align: top;\n",
              "    }\n",
              "\n",
              "    .dataframe thead th {\n",
              "        text-align: right;\n",
              "    }\n",
              "</style>\n",
              "<table border=\"1\" class=\"dataframe\">\n",
              "  <thead>\n",
              "    <tr style=\"text-align: right;\">\n",
              "      <th></th>\n",
              "      <th>count</th>\n",
              "      <th>unique</th>\n",
              "      <th>top</th>\n",
              "      <th>freq</th>\n",
              "    </tr>\n",
              "  </thead>\n",
              "  <tbody>\n",
              "    <tr>\n",
              "      <th>dur</th>\n",
              "      <td>40</td>\n",
              "      <td>4</td>\n",
              "      <td>2</td>\n",
              "      <td>17</td>\n",
              "    </tr>\n",
              "    <tr>\n",
              "      <th>wage1</th>\n",
              "      <td>40</td>\n",
              "      <td>16</td>\n",
              "      <td>2.0</td>\n",
              "      <td>8</td>\n",
              "    </tr>\n",
              "    <tr>\n",
              "      <th>wage2</th>\n",
              "      <td>40</td>\n",
              "      <td>12</td>\n",
              "      <td>?</td>\n",
              "      <td>10</td>\n",
              "    </tr>\n",
              "    <tr>\n",
              "      <th>wage3</th>\n",
              "      <td>40</td>\n",
              "      <td>8</td>\n",
              "      <td>?</td>\n",
              "      <td>28</td>\n",
              "    </tr>\n",
              "    <tr>\n",
              "      <th>cola</th>\n",
              "      <td>40</td>\n",
              "      <td>4</td>\n",
              "      <td>?</td>\n",
              "      <td>16</td>\n",
              "    </tr>\n",
              "    <tr>\n",
              "      <th>hours</th>\n",
              "      <td>40</td>\n",
              "      <td>8</td>\n",
              "      <td>40</td>\n",
              "      <td>16</td>\n",
              "    </tr>\n",
              "    <tr>\n",
              "      <th>pension</th>\n",
              "      <td>40</td>\n",
              "      <td>4</td>\n",
              "      <td>?</td>\n",
              "      <td>22</td>\n",
              "    </tr>\n",
              "    <tr>\n",
              "      <th>stby_pay</th>\n",
              "      <td>40</td>\n",
              "      <td>6</td>\n",
              "      <td>?</td>\n",
              "      <td>33</td>\n",
              "    </tr>\n",
              "    <tr>\n",
              "      <th>shift_diff</th>\n",
              "      <td>40</td>\n",
              "      <td>10</td>\n",
              "      <td>?</td>\n",
              "      <td>16</td>\n",
              "    </tr>\n",
              "    <tr>\n",
              "      <th>educ_allw</th>\n",
              "      <td>40</td>\n",
              "      <td>3</td>\n",
              "      <td>?</td>\n",
              "      <td>22</td>\n",
              "    </tr>\n",
              "    <tr>\n",
              "      <th>holidays</th>\n",
              "      <td>40</td>\n",
              "      <td>7</td>\n",
              "      <td>11</td>\n",
              "      <td>13</td>\n",
              "    </tr>\n",
              "    <tr>\n",
              "      <th>vacation</th>\n",
              "      <td>40</td>\n",
              "      <td>4</td>\n",
              "      <td>below average</td>\n",
              "      <td>14</td>\n",
              "    </tr>\n",
              "    <tr>\n",
              "      <th>lngtrm_disabil</th>\n",
              "      <td>40</td>\n",
              "      <td>3</td>\n",
              "      <td>?</td>\n",
              "      <td>24</td>\n",
              "    </tr>\n",
              "    <tr>\n",
              "      <th>dntl_ins</th>\n",
              "      <td>40</td>\n",
              "      <td>4</td>\n",
              "      <td>?</td>\n",
              "      <td>15</td>\n",
              "    </tr>\n",
              "    <tr>\n",
              "      <th>bereavement</th>\n",
              "      <td>40</td>\n",
              "      <td>3</td>\n",
              "      <td>?</td>\n",
              "      <td>20</td>\n",
              "    </tr>\n",
              "    <tr>\n",
              "      <th>empl_hplan</th>\n",
              "      <td>40</td>\n",
              "      <td>4</td>\n",
              "      <td>?</td>\n",
              "      <td>16</td>\n",
              "    </tr>\n",
              "    <tr>\n",
              "      <th>class</th>\n",
              "      <td>40</td>\n",
              "      <td>2</td>\n",
              "      <td>good</td>\n",
              "      <td>26</td>\n",
              "    </tr>\n",
              "  </tbody>\n",
              "</table>\n",
              "</div>"
            ],
            "text/plain": [
              "               count unique            top freq\n",
              "dur               40      4              2   17\n",
              "wage1             40     16            2.0    8\n",
              "wage2             40     12              ?   10\n",
              "wage3             40      8              ?   28\n",
              "cola              40      4              ?   16\n",
              "hours             40      8             40   16\n",
              "pension           40      4              ?   22\n",
              "stby_pay          40      6              ?   33\n",
              "shift_diff        40     10              ?   16\n",
              "educ_allw         40      3              ?   22\n",
              "holidays          40      7             11   13\n",
              "vacation          40      4  below average   14\n",
              "lngtrm_disabil    40      3              ?   24\n",
              "dntl_ins          40      4              ?   15\n",
              "bereavement       40      3              ?   20\n",
              "empl_hplan        40      4              ?   16\n",
              "class             40      2           good   26"
            ]
          },
          "metadata": {
            "tags": []
          },
          "execution_count": 6
        }
      ]
    },
    {
      "cell_type": "code",
      "metadata": {
        "id": "FrEQFvd5dHb_",
        "colab": {
          "base_uri": "https://localhost:8080/"
        },
        "outputId": "743e72e6-822c-4404-bb6f-4ec6fb452bfe"
      },
      "source": [
        "df.isnull().sum()"
      ],
      "execution_count": null,
      "outputs": [
        {
          "output_type": "execute_result",
          "data": {
            "text/plain": [
              "dur               0\n",
              "wage1             0\n",
              "wage2             0\n",
              "wage3             0\n",
              "cola              0\n",
              "hours             0\n",
              "pension           0\n",
              "stby_pay          0\n",
              "shift_diff        0\n",
              "educ_allw         0\n",
              "holidays          0\n",
              "vacation          0\n",
              "lngtrm_disabil    0\n",
              "dntl_ins          0\n",
              "bereavement       0\n",
              "empl_hplan        0\n",
              "class             0\n",
              "dtype: int64"
            ]
          },
          "metadata": {
            "tags": []
          },
          "execution_count": 7
        }
      ]
    },
    {
      "cell_type": "code",
      "metadata": {
        "id": "PTmMhHaLdHcA",
        "colab": {
          "base_uri": "https://localhost:8080/",
          "height": 984
        },
        "outputId": "1e5270cd-14a2-4ffc-c655-3f75955d4aad"
      },
      "source": [
        "object_col = df.select_dtypes(include=object).columns.tolist()\n",
        "for col in object_col:\n",
        "    df.loc[df[col]=='?', col] = np.nan\n",
        "msno.matrix(df.sample(df.shape[0]))\n",
        "df.isnull().sum()"
      ],
      "execution_count": null,
      "outputs": [
        {
          "output_type": "execute_result",
          "data": {
            "text/plain": [
              "dur                1\n",
              "wage1              1\n",
              "wage2             10\n",
              "wage3             28\n",
              "cola              16\n",
              "hours              3\n",
              "pension           22\n",
              "stby_pay          33\n",
              "shift_diff        16\n",
              "educ_allw         22\n",
              "holidays           2\n",
              "vacation           3\n",
              "lngtrm_disabil    24\n",
              "dntl_ins          15\n",
              "bereavement       20\n",
              "empl_hplan        16\n",
              "class              0\n",
              "dtype: int64"
            ]
          },
          "metadata": {
            "tags": []
          },
          "execution_count": 8
        },
        {
          "output_type": "display_data",
          "data": {
            "image/png": "[encoded data removed]",
            "text/plain": [
              "<Figure size 1800x720 with 2 Axes>"
            ]
          },
          "metadata": {
            "tags": [],
            "needs_background": "light"
          }
        }
      ]
    },
    {
      "cell_type": "markdown",
      "metadata": {
        "id": "eKnKWs-mdHcA"
      },
      "source": [
        "Imputing NaN with modus"
      ]
    },
    {
      "cell_type": "code",
      "metadata": {
        "id": "eJUDS5AzdHcB",
        "colab": {
          "base_uri": "https://localhost:8080/",
          "height": 697
        },
        "outputId": "09e3d323-c9aa-431f-b6f4-9fa9b52c15a3"
      },
      "source": [
        "for col in [\"dur\",\"wage1\",\"wage2\",\"wage3\",\"cola\",\"hours\",\"pension\",\"stby_pay\",\"shift_diff\",\n",
        "           \"educ_allw\",\"holidays\",\"vacation\",\"lngtrm_disabil\",\"dntl_ins\",\"bereavement\",\"empl_hplan\",]:\n",
        "    df[col].fillna(df[col].mode()[0], inplace=True)\n",
        "msno.matrix(df.sample(df.shape[0]))"
      ],
      "execution_count": null,
      "outputs": [
        {
          "output_type": "execute_result",
          "data": {
            "text/plain": [
              "<matplotlib.axes._subplots.AxesSubplot at 0x7f5285c047b8>"
            ]
          },
          "metadata": {
            "tags": []
          },
          "execution_count": 9
        },
        {
          "output_type": "display_data",
          "data": {
            "image/png": "[encoded data removed]",
            "text/plain": [
              "<Figure size 1800x720 with 2 Axes>"
            ]
          },
          "metadata": {
            "tags": [],
            "needs_background": "light"
          }
        }
      ]
    },
    {
      "cell_type": "code",
      "metadata": {
        "colab": {
          "base_uri": "https://localhost:8080/",
          "height": 204
        },
        "id": "ecZ7FeQeE9ET",
        "outputId": "bfc436f1-c2cb-46b2-898c-578d505443af"
      },
      "source": [
        "df.head()"
      ],
      "execution_count": null,
      "outputs": [
        {
          "output_type": "execute_result",
          "data": {
            "text/html": [
              "<div>\n",
              "<style scoped>\n",
              "    .dataframe tbody tr th:only-of-type {\n",
              "        vertical-align: middle;\n",
              "    }\n",
              "\n",
              "    .dataframe tbody tr th {\n",
              "        vertical-align: top;\n",
              "    }\n",
              "\n",
              "    .dataframe thead th {\n",
              "        text-align: right;\n",
              "    }\n",
              "</style>\n",
              "<table border=\"1\" class=\"dataframe\">\n",
              "  <thead>\n",
              "    <tr style=\"text-align: right;\">\n",
              "      <th></th>\n",
              "      <th>dur</th>\n",
              "      <th>wage1</th>\n",
              "      <th>wage2</th>\n",
              "      <th>wage3</th>\n",
              "      <th>cola</th>\n",
              "      <th>hours</th>\n",
              "      <th>pension</th>\n",
              "      <th>stby_pay</th>\n",
              "      <th>shift_diff</th>\n",
              "      <th>educ_allw</th>\n",
              "      <th>holidays</th>\n",
              "      <th>vacation</th>\n",
              "      <th>lngtrm_disabil</th>\n",
              "      <th>dntl_ins</th>\n",
              "      <th>bereavement</th>\n",
              "      <th>empl_hplan</th>\n",
              "      <th>class</th>\n",
              "    </tr>\n",
              "  </thead>\n",
              "  <tbody>\n",
              "    <tr>\n",
              "      <th>0</th>\n",
              "      <td>1</td>\n",
              "      <td>5.0</td>\n",
              "      <td>4.0</td>\n",
              "      <td>5.0</td>\n",
              "      <td>none</td>\n",
              "      <td>40</td>\n",
              "      <td>none</td>\n",
              "      <td>2</td>\n",
              "      <td>2</td>\n",
              "      <td>no</td>\n",
              "      <td>11</td>\n",
              "      <td>average</td>\n",
              "      <td>yes</td>\n",
              "      <td>half</td>\n",
              "      <td>yes</td>\n",
              "      <td>full</td>\n",
              "      <td>good</td>\n",
              "    </tr>\n",
              "    <tr>\n",
              "      <th>1</th>\n",
              "      <td>2</td>\n",
              "      <td>4.5</td>\n",
              "      <td>5.8</td>\n",
              "      <td>5.0</td>\n",
              "      <td>none</td>\n",
              "      <td>35</td>\n",
              "      <td>ret_allw</td>\n",
              "      <td>2</td>\n",
              "      <td>3</td>\n",
              "      <td>yes</td>\n",
              "      <td>11</td>\n",
              "      <td>below average</td>\n",
              "      <td>yes</td>\n",
              "      <td>full</td>\n",
              "      <td>yes</td>\n",
              "      <td>full</td>\n",
              "      <td>good</td>\n",
              "    </tr>\n",
              "    <tr>\n",
              "      <th>2</th>\n",
              "      <td>2</td>\n",
              "      <td>2.0</td>\n",
              "      <td>4.0</td>\n",
              "      <td>5.0</td>\n",
              "      <td>none</td>\n",
              "      <td>38</td>\n",
              "      <td>empl_contr</td>\n",
              "      <td>2</td>\n",
              "      <td>5</td>\n",
              "      <td>no</td>\n",
              "      <td>11</td>\n",
              "      <td>generous</td>\n",
              "      <td>yes</td>\n",
              "      <td>half</td>\n",
              "      <td>yes</td>\n",
              "      <td>half</td>\n",
              "      <td>good</td>\n",
              "    </tr>\n",
              "    <tr>\n",
              "      <th>3</th>\n",
              "      <td>3</td>\n",
              "      <td>3.7</td>\n",
              "      <td>4.0</td>\n",
              "      <td>5.0</td>\n",
              "      <td>tc</td>\n",
              "      <td>40</td>\n",
              "      <td>none</td>\n",
              "      <td>2</td>\n",
              "      <td>3</td>\n",
              "      <td>yes</td>\n",
              "      <td>11</td>\n",
              "      <td>below average</td>\n",
              "      <td>yes</td>\n",
              "      <td>half</td>\n",
              "      <td>yes</td>\n",
              "      <td>full</td>\n",
              "      <td>good</td>\n",
              "    </tr>\n",
              "    <tr>\n",
              "      <th>4</th>\n",
              "      <td>3</td>\n",
              "      <td>4.5</td>\n",
              "      <td>4.5</td>\n",
              "      <td>5.0</td>\n",
              "      <td>none</td>\n",
              "      <td>40</td>\n",
              "      <td>none</td>\n",
              "      <td>2</td>\n",
              "      <td>3</td>\n",
              "      <td>no</td>\n",
              "      <td>12</td>\n",
              "      <td>average</td>\n",
              "      <td>yes</td>\n",
              "      <td>half</td>\n",
              "      <td>yes</td>\n",
              "      <td>half</td>\n",
              "      <td>good</td>\n",
              "    </tr>\n",
              "  </tbody>\n",
              "</table>\n",
              "</div>"
            ],
            "text/plain": [
              "  dur wage1 wage2 wage3  ... dntl_ins bereavement empl_hplan class\n",
              "0   1   5.0   4.0   5.0  ...     half         yes       full  good\n",
              "1   2   4.5   5.8   5.0  ...     full         yes       full  good\n",
              "2   2   2.0   4.0   5.0  ...     half         yes       half  good\n",
              "3   3   3.7   4.0   5.0  ...     half         yes       full  good\n",
              "4   3   4.5   4.5   5.0  ...     half         yes       half  good\n",
              "\n",
              "[5 rows x 17 columns]"
            ]
          },
          "metadata": {
            "tags": []
          },
          "execution_count": 10
        }
      ]
    },
    {
      "cell_type": "code",
      "metadata": {
        "id": "xrCfWM-0dHcB"
      },
      "source": [
        "df[[\"dur\",\"stby_pay\",\"shift_diff\",\"holidays\",\"hours\"]] = df[[\"dur\",\"stby_pay\",\"shift_diff\",\"holidays\",\"hours\"]].astype('int')\n",
        "df[[\"cola\",\"pension\",\"educ_allw\",\"vacation\",\"lngtrm_disabil\",\"dntl_ins\",\"bereavement\",\"empl_hplan\",\"class\"]] = df[[\"cola\",\"pension\",\"educ_allw\",\"vacation\",\"lngtrm_disabil\",\"dntl_ins\",\"bereavement\",\"empl_hplan\",\"class\"]].astype('category')\n",
        "df[[\"wage1\",\"wage2\",\"wage3\"]] =df[[\"wage1\",\"wage2\",\"wage3\"]].astype('float')"
      ],
      "execution_count": null,
      "outputs": []
    },
    {
      "cell_type": "code",
      "metadata": {
        "id": "vzoSniuAdHcB",
        "colab": {
          "base_uri": "https://localhost:8080/"
        },
        "outputId": "b9faf3ca-eac6-4fbe-e168-d5e9d58d342d"
      },
      "source": [
        "df.info()"
      ],
      "execution_count": null,
      "outputs": [
        {
          "output_type": "stream",
          "text": [
            "<class 'pandas.core.frame.DataFrame'>\n",
            "RangeIndex: 40 entries, 0 to 39\n",
            "Data columns (total 17 columns):\n",
            " #   Column          Non-Null Count  Dtype   \n",
            "---  ------          --------------  -----   \n",
            " 0   dur             40 non-null     int64   \n",
            " 1   wage1           40 non-null     float64 \n",
            " 2   wage2           40 non-null     float64 \n",
            " 3   wage3           40 non-null     float64 \n",
            " 4   cola            40 non-null     category\n",
            " 5   hours           40 non-null     int64   \n",
            " 6   pension         40 non-null     category\n",
            " 7   stby_pay        40 non-null     int64   \n",
            " 8   shift_diff      40 non-null     int64   \n",
            " 9   educ_allw       40 non-null     category\n",
            " 10  holidays        40 non-null     int64   \n",
            " 11  vacation        40 non-null     category\n",
            " 12  lngtrm_disabil  40 non-null     category\n",
            " 13  dntl_ins        40 non-null     category\n",
            " 14  bereavement     40 non-null     category\n",
            " 15  empl_hplan      40 non-null     category\n",
            " 16  class           40 non-null     category\n",
            "dtypes: category(9), float64(3), int64(5)\n",
            "memory usage: 3.9 KB\n"
          ],
          "name": "stdout"
        }
      ]
    },
    {
      "cell_type": "markdown",
      "metadata": {
        "id": "K5sIaqa-dHcB"
      },
      "source": [
        "Visualization"
      ]
    },
    {
      "cell_type": "code",
      "metadata": {
        "id": "_bAsrbV6dHcC",
        "colab": {
          "base_uri": "https://localhost:8080/",
          "height": 279
        },
        "outputId": "7a461352-6425-4218-c2f5-19c01a8a9cee"
      },
      "source": [
        "ax = sns.countplot(x=\"dur\", data=df)"
      ],
      "execution_count": null,
      "outputs": [
        {
          "output_type": "display_data",
          "data": {
            "image/png": "[encoded data removed]",
            "text/plain": [
              "<Figure size 432x288 with 1 Axes>"
            ]
          },
          "metadata": {
            "tags": [],
            "needs_background": "light"
          }
        }
      ]
    },
    {
      "cell_type": "code",
      "metadata": {
        "colab": {
          "base_uri": "https://localhost:8080/",
          "height": 279
        },
        "id": "UuW2zrO0xPOn",
        "outputId": "7607b27f-59a5-4ac2-b330-03535b0ef6d3"
      },
      "source": [
        "ax = sns.countplot(x=\"wage1\", data=df)"
      ],
      "execution_count": null,
      "outputs": [
        {
          "output_type": "display_data",
          "data": {
            "image/png": "[encoded data removed]",
            "text/plain": [
              "<Figure size 432x288 with 1 Axes>"
            ]
          },
          "metadata": {
            "tags": [],
            "needs_background": "light"
          }
        }
      ]
    },
    {
      "cell_type": "code",
      "metadata": {
        "colab": {
          "base_uri": "https://localhost:8080/",
          "height": 279
        },
        "id": "c91PhWESxStG",
        "outputId": "171ccb9f-7881-4c60-ce74-c6113799e30e"
      },
      "source": [
        "ax = sns.countplot(x=\"wage2\", data=df)"
      ],
      "execution_count": null,
      "outputs": [
        {
          "output_type": "display_data",
          "data": {
            "image/png": "[encoded data removed]",
            "text/plain": [
              "<Figure size 432x288 with 1 Axes>"
            ]
          },
          "metadata": {
            "tags": [],
            "needs_background": "light"
          }
        }
      ]
    },
    {
      "cell_type": "code",
      "metadata": {
        "colab": {
          "base_uri": "https://localhost:8080/",
          "height": 279
        },
        "id": "O3zSdqbDxW1u",
        "outputId": "2ad061ef-bb7a-44a7-c299-c054a1038552"
      },
      "source": [
        "ax = sns.countplot(x=\"wage3\", data=df)"
      ],
      "execution_count": null,
      "outputs": [
        {
          "output_type": "display_data",
          "data": {
            "image/png": "[encoded data removed]",
            "text/plain": [
              "<Figure size 432x288 with 1 Axes>"
            ]
          },
          "metadata": {
            "tags": [],
            "needs_background": "light"
          }
        }
      ]
    },
    {
      "cell_type": "code",
      "metadata": {
        "id": "5usReQPBdHcC",
        "colab": {
          "base_uri": "https://localhost:8080/",
          "height": 279
        },
        "outputId": "74b335d7-6331-40a4-afc7-4ce2b1c72eae"
      },
      "source": [
        "ax = sns.countplot(x=\"hours\", data=df)"
      ],
      "execution_count": null,
      "outputs": [
        {
          "output_type": "display_data",
          "data": {
            "image/png": "[encoded data removed]",
            "text/plain": [
              "<Figure size 432x288 with 1 Axes>"
            ]
          },
          "metadata": {
            "tags": [],
            "needs_background": "light"
          }
        }
      ]
    },
    {
      "cell_type": "code",
      "metadata": {
        "id": "54uGnTNYdHcC",
        "colab": {
          "base_uri": "https://localhost:8080/",
          "height": 280
        },
        "outputId": "e1070d2d-7dcb-4521-a4ab-c736c910fbe9"
      },
      "source": [
        "ax = sns.countplot(x=\"pension\", data=df)"
      ],
      "execution_count": null,
      "outputs": [
        {
          "output_type": "display_data",
          "data": {
            "image/png": "[encoded data removed]",
            "text/plain": [
              "<Figure size 432x288 with 1 Axes>"
            ]
          },
          "metadata": {
            "tags": [],
            "needs_background": "light"
          }
        }
      ]
    },
    {
      "cell_type": "code",
      "metadata": {
        "colab": {
          "base_uri": "https://localhost:8080/",
          "height": 280
        },
        "id": "8BK8Lw5oTcY2",
        "outputId": "e9d566f5-0723-4cea-cb9e-6504be141c55"
      },
      "source": [
        "ax = sns.countplot(x=\"stby_pay\", data=df)"
      ],
      "execution_count": null,
      "outputs": [
        {
          "output_type": "display_data",
          "data": {
            "image/png": "[encoded data removed]",
            "text/plain": [
              "<Figure size 432x288 with 1 Axes>"
            ]
          },
          "metadata": {
            "tags": [],
            "needs_background": "light"
          }
        }
      ]
    },
    {
      "cell_type": "code",
      "metadata": {
        "colab": {
          "base_uri": "https://localhost:8080/",
          "height": 279
        },
        "id": "gxB6x17HVvzp",
        "outputId": "d48e8e52-b257-4439-ad73-28fc26f6515b"
      },
      "source": [
        "ax = sns.countplot(x=\"holidays\", data=df)"
      ],
      "execution_count": null,
      "outputs": [
        {
          "output_type": "display_data",
          "data": {
            "image/png": "[encoded data removed]",
            "text/plain": [
              "<Figure size 432x288 with 1 Axes>"
            ]
          },
          "metadata": {
            "tags": [],
            "needs_background": "light"
          }
        }
      ]
    },
    {
      "cell_type": "code",
      "metadata": {
        "colab": {
          "base_uri": "https://localhost:8080/",
          "height": 280
        },
        "id": "cXqhOzpPXbzq",
        "outputId": "c54ee993-fcf6-4b1f-ce45-30fc54fce0dd"
      },
      "source": [
        "ax = sns.countplot(x=\"shift_diff\", data=df)"
      ],
      "execution_count": null,
      "outputs": [
        {
          "output_type": "display_data",
          "data": {
            "image/png": "[encoded data removed]",
            "text/plain": [
              "<Figure size 432x288 with 1 Axes>"
            ]
          },
          "metadata": {
            "tags": [],
            "needs_background": "light"
          }
        }
      ]
    },
    {
      "cell_type": "code",
      "metadata": {
        "id": "SyWfY0Z2dHcD",
        "colab": {
          "base_uri": "https://localhost:8080/",
          "height": 204
        },
        "outputId": "c0561bf1-832e-4de8-95a9-5374eb481d29"
      },
      "source": [
        "df.head()"
      ],
      "execution_count": null,
      "outputs": [
        {
          "output_type": "execute_result",
          "data": {
            "text/html": [
              "<div>\n",
              "<style scoped>\n",
              "    .dataframe tbody tr th:only-of-type {\n",
              "        vertical-align: middle;\n",
              "    }\n",
              "\n",
              "    .dataframe tbody tr th {\n",
              "        vertical-align: top;\n",
              "    }\n",
              "\n",
              "    .dataframe thead th {\n",
              "        text-align: right;\n",
              "    }\n",
              "</style>\n",
              "<table border=\"1\" class=\"dataframe\">\n",
              "  <thead>\n",
              "    <tr style=\"text-align: right;\">\n",
              "      <th></th>\n",
              "      <th>dur</th>\n",
              "      <th>wage1</th>\n",
              "      <th>wage2</th>\n",
              "      <th>wage3</th>\n",
              "      <th>cola</th>\n",
              "      <th>hours</th>\n",
              "      <th>pension</th>\n",
              "      <th>stby_pay</th>\n",
              "      <th>shift_diff</th>\n",
              "      <th>educ_allw</th>\n",
              "      <th>holidays</th>\n",
              "      <th>vacation</th>\n",
              "      <th>lngtrm_disabil</th>\n",
              "      <th>dntl_ins</th>\n",
              "      <th>bereavement</th>\n",
              "      <th>empl_hplan</th>\n",
              "      <th>class</th>\n",
              "    </tr>\n",
              "  </thead>\n",
              "  <tbody>\n",
              "    <tr>\n",
              "      <th>0</th>\n",
              "      <td>1</td>\n",
              "      <td>5.0</td>\n",
              "      <td>4.0</td>\n",
              "      <td>5.0</td>\n",
              "      <td>none</td>\n",
              "      <td>40</td>\n",
              "      <td>none</td>\n",
              "      <td>2</td>\n",
              "      <td>2</td>\n",
              "      <td>no</td>\n",
              "      <td>11</td>\n",
              "      <td>average</td>\n",
              "      <td>yes</td>\n",
              "      <td>half</td>\n",
              "      <td>yes</td>\n",
              "      <td>full</td>\n",
              "      <td>good</td>\n",
              "    </tr>\n",
              "    <tr>\n",
              "      <th>1</th>\n",
              "      <td>2</td>\n",
              "      <td>4.5</td>\n",
              "      <td>5.8</td>\n",
              "      <td>5.0</td>\n",
              "      <td>none</td>\n",
              "      <td>35</td>\n",
              "      <td>ret_allw</td>\n",
              "      <td>2</td>\n",
              "      <td>3</td>\n",
              "      <td>yes</td>\n",
              "      <td>11</td>\n",
              "      <td>below average</td>\n",
              "      <td>yes</td>\n",
              "      <td>full</td>\n",
              "      <td>yes</td>\n",
              "      <td>full</td>\n",
              "      <td>good</td>\n",
              "    </tr>\n",
              "    <tr>\n",
              "      <th>2</th>\n",
              "      <td>2</td>\n",
              "      <td>2.0</td>\n",
              "      <td>4.0</td>\n",
              "      <td>5.0</td>\n",
              "      <td>none</td>\n",
              "      <td>38</td>\n",
              "      <td>empl_contr</td>\n",
              "      <td>2</td>\n",
              "      <td>5</td>\n",
              "      <td>no</td>\n",
              "      <td>11</td>\n",
              "      <td>generous</td>\n",
              "      <td>yes</td>\n",
              "      <td>half</td>\n",
              "      <td>yes</td>\n",
              "      <td>half</td>\n",
              "      <td>good</td>\n",
              "    </tr>\n",
              "    <tr>\n",
              "      <th>3</th>\n",
              "      <td>3</td>\n",
              "      <td>3.7</td>\n",
              "      <td>4.0</td>\n",
              "      <td>5.0</td>\n",
              "      <td>tc</td>\n",
              "      <td>40</td>\n",
              "      <td>none</td>\n",
              "      <td>2</td>\n",
              "      <td>3</td>\n",
              "      <td>yes</td>\n",
              "      <td>11</td>\n",
              "      <td>below average</td>\n",
              "      <td>yes</td>\n",
              "      <td>half</td>\n",
              "      <td>yes</td>\n",
              "      <td>full</td>\n",
              "      <td>good</td>\n",
              "    </tr>\n",
              "    <tr>\n",
              "      <th>4</th>\n",
              "      <td>3</td>\n",
              "      <td>4.5</td>\n",
              "      <td>4.5</td>\n",
              "      <td>5.0</td>\n",
              "      <td>none</td>\n",
              "      <td>40</td>\n",
              "      <td>none</td>\n",
              "      <td>2</td>\n",
              "      <td>3</td>\n",
              "      <td>no</td>\n",
              "      <td>12</td>\n",
              "      <td>average</td>\n",
              "      <td>yes</td>\n",
              "      <td>half</td>\n",
              "      <td>yes</td>\n",
              "      <td>half</td>\n",
              "      <td>good</td>\n",
              "    </tr>\n",
              "  </tbody>\n",
              "</table>\n",
              "</div>"
            ],
            "text/plain": [
              "   dur  wage1  wage2  wage3  ... dntl_ins  bereavement empl_hplan  class\n",
              "0    1    5.0    4.0    5.0  ...     half          yes       full   good\n",
              "1    2    4.5    5.8    5.0  ...     full          yes       full   good\n",
              "2    2    2.0    4.0    5.0  ...     half          yes       half   good\n",
              "3    3    3.7    4.0    5.0  ...     half          yes       full   good\n",
              "4    3    4.5    4.5    5.0  ...     half          yes       half   good\n",
              "\n",
              "[5 rows x 17 columns]"
            ]
          },
          "metadata": {
            "tags": []
          },
          "execution_count": 14
        }
      ]
    },
    {
      "cell_type": "markdown",
      "metadata": {
        "id": "1_gu2pJLxoqQ"
      },
      "source": [
        "# **Preprocessing**"
      ]
    },
    {
      "cell_type": "code",
      "metadata": {
        "colab": {
          "base_uri": "https://localhost:8080/"
        },
        "id": "DrR8KB3yF0YK",
        "outputId": "7cf90da4-17cd-4000-ff5e-e7381bb48e57"
      },
      "source": [
        "df[\"pension\"].value_counts()"
      ],
      "execution_count": null,
      "outputs": [
        {
          "output_type": "execute_result",
          "data": {
            "text/plain": [
              "none          30\n",
              "empl_contr     7\n",
              "ret_allw       3\n",
              "Name: pension, dtype: int64"
            ]
          },
          "metadata": {
            "tags": []
          },
          "execution_count": 13
        }
      ]
    },
    {
      "cell_type": "code",
      "metadata": {
        "colab": {
          "base_uri": "https://localhost:8080/"
        },
        "id": "i311jqEuQ7Zw",
        "outputId": "ef722e6f-aa9e-48ac-e8d1-8fd2f77c5f58"
      },
      "source": [
        "pd.qcut(df['dur'], q=2).tail()"
      ],
      "execution_count": null,
      "outputs": [
        {
          "output_type": "execute_result",
          "data": {
            "text/plain": [
              "35    (0.999, 2.0]\n",
              "36    (0.999, 2.0]\n",
              "37    (0.999, 2.0]\n",
              "38      (2.0, 3.0]\n",
              "39    (0.999, 2.0]\n",
              "Name: dur, dtype: category\n",
              "Categories (2, interval[float64]): [(0.999, 2.0] < (2.0, 3.0]]"
            ]
          },
          "metadata": {
            "tags": []
          },
          "execution_count": 14
        }
      ]
    },
    {
      "cell_type": "code",
      "metadata": {
        "id": "7ZPsK6_EYB46"
      },
      "source": [
        "df['dur_range'] = pd.qcut(df['dur'], q=2, labels=['<=2', '>2'])"
      ],
      "execution_count": null,
      "outputs": []
    },
    {
      "cell_type": "code",
      "metadata": {
        "colab": {
          "base_uri": "https://localhost:8080/"
        },
        "id": "F091ltaaROL-",
        "outputId": "e616681f-b2c6-403b-eca1-55db8de734f1"
      },
      "source": [
        "pd.qcut(df['wage1'], q=3).tail()"
      ],
      "execution_count": null,
      "outputs": [
        {
          "output_type": "execute_result",
          "data": {
            "text/plain": [
              "35    (1.999, 2.8]\n",
              "36    (1.999, 2.8]\n",
              "37    (1.999, 2.8]\n",
              "38    (1.999, 2.8]\n",
              "39      (4.3, 6.9]\n",
              "Name: wage1, dtype: category\n",
              "Categories (3, interval[float64]): [(1.999, 2.8] < (2.8, 4.3] < (4.3, 6.9]]"
            ]
          },
          "metadata": {
            "tags": []
          },
          "execution_count": 16
        }
      ]
    },
    {
      "cell_type": "code",
      "metadata": {
        "id": "0C1yhkCdYpek"
      },
      "source": [
        "df['wage1_range'] = pd.qcut(df['wage1'], q=3, labels=['<=2.8', '>2 <=4.3','>4.3'])"
      ],
      "execution_count": null,
      "outputs": []
    },
    {
      "cell_type": "code",
      "metadata": {
        "colab": {
          "base_uri": "https://localhost:8080/"
        },
        "id": "0pTCmYtRRmuf",
        "outputId": "ce66c20a-0364-4fed-8653-a21d211cbde0"
      },
      "source": [
        "pd.qcut(df['wage2'], q=4).tail()"
      ],
      "execution_count": null,
      "outputs": [
        {
          "output_type": "execute_result",
          "data": {
            "text/plain": [
              "35    (1.999, 3.75]\n",
              "36      (3.75, 4.0]\n",
              "37      (3.75, 4.0]\n",
              "38    (1.999, 3.75]\n",
              "39      (3.75, 4.0]\n",
              "Name: wage2, dtype: category\n",
              "Categories (4, interval[float64]): [(1.999, 3.75] < (3.75, 4.0] < (4.0, 4.425] < (4.425, 7.0]]"
            ]
          },
          "metadata": {
            "tags": []
          },
          "execution_count": 18
        }
      ]
    },
    {
      "cell_type": "code",
      "metadata": {
        "id": "p5D5gWi3at9I"
      },
      "source": [
        "df['wage2_range'] = pd.qcut(df['wage2'], q=4, labels=['<=3.75', '>3.75 <=4','>4 <=4.42', '>4.42'])"
      ],
      "execution_count": null,
      "outputs": []
    },
    {
      "cell_type": "code",
      "metadata": {
        "colab": {
          "base_uri": "https://localhost:8080/"
        },
        "id": "IF153-mrR-SN",
        "outputId": "f726dfe4-3c10-4462-b183-3d9718b3fb83"
      },
      "source": [
        "pd.qcut(df['wage3'], q=2).tail()"
      ],
      "execution_count": null,
      "outputs": [
        {
          "output_type": "execute_result",
          "data": {
            "text/plain": [
              "35    (1.999, 5.0]\n",
              "36    (1.999, 5.0]\n",
              "37    (1.999, 5.0]\n",
              "38    (1.999, 5.0]\n",
              "39    (1.999, 5.0]\n",
              "Name: wage3, dtype: category\n",
              "Categories (2, interval[float64]): [(1.999, 5.0] < (5.0, 5.1]]"
            ]
          },
          "metadata": {
            "tags": []
          },
          "execution_count": 20
        }
      ]
    },
    {
      "cell_type": "code",
      "metadata": {
        "id": "wABGd1VvbMUM"
      },
      "source": [
        "df['wage3_range'] = pd.qcut(df['wage3'], q=2, labels=['<=5', '>5'])"
      ],
      "execution_count": null,
      "outputs": []
    },
    {
      "cell_type": "code",
      "metadata": {
        "colab": {
          "base_uri": "https://localhost:8080/"
        },
        "id": "nIhHxl-yS0Ws",
        "outputId": "82ff3ea5-6549-46d1-f165-3c1372cad89f"
      },
      "source": [
        "pd.qcut(df['hours'], q=2).tail()"
      ],
      "execution_count": null,
      "outputs": [
        {
          "output_type": "execute_result",
          "data": {
            "text/plain": [
              "35      (38.0, 40.0]\n",
              "36      (38.0, 40.0]\n",
              "37    (26.999, 38.0]\n",
              "38    (26.999, 38.0]\n",
              "39      (38.0, 40.0]\n",
              "Name: hours, dtype: category\n",
              "Categories (2, interval[float64]): [(26.999, 38.0] < (38.0, 40.0]]"
            ]
          },
          "metadata": {
            "tags": []
          },
          "execution_count": 22
        }
      ]
    },
    {
      "cell_type": "code",
      "metadata": {
        "id": "waPWIk3ubavR"
      },
      "source": [
        "df['hours_range'] = pd.qcut(df['hours'], q=2, labels=['<=38', '>40'])"
      ],
      "execution_count": null,
      "outputs": []
    },
    {
      "cell_type": "code",
      "metadata": {
        "colab": {
          "base_uri": "https://localhost:8080/"
        },
        "id": "wUs5cjcBUQHT",
        "outputId": "f74ed9d7-f9f5-4d55-9371-07986a97ff08"
      },
      "source": [
        "pd.qcut(df['stby_pay'], q=1).tail()"
      ],
      "execution_count": null,
      "outputs": [
        {
          "output_type": "execute_result",
          "data": {
            "text/plain": [
              "35    (1.999, 13.0]\n",
              "36    (1.999, 13.0]\n",
              "37    (1.999, 13.0]\n",
              "38    (1.999, 13.0]\n",
              "39    (1.999, 13.0]\n",
              "Name: stby_pay, dtype: category\n",
              "Categories (1, interval[float64]): [(1.999, 13.0]]"
            ]
          },
          "metadata": {
            "tags": []
          },
          "execution_count": 24
        }
      ]
    },
    {
      "cell_type": "code",
      "metadata": {
        "id": "pYh6INI_b24J"
      },
      "source": [
        "df['stby_pay_range'] = pd.qcut(df['stby_pay'], q=1, labels=['<=13'])"
      ],
      "execution_count": null,
      "outputs": []
    },
    {
      "cell_type": "code",
      "metadata": {
        "colab": {
          "base_uri": "https://localhost:8080/"
        },
        "id": "qa_leJYPVfcc",
        "outputId": "cd6dbf5f-51fe-483a-fc4b-fe65b6c24f37"
      },
      "source": [
        "pd.qcut(df['shift_diff'], q=2).tail()"
      ],
      "execution_count": null,
      "outputs": [
        {
          "output_type": "execute_result",
          "data": {
            "text/plain": [
              "35    (-0.001, 3.0]\n",
              "36    (-0.001, 3.0]\n",
              "37    (-0.001, 3.0]\n",
              "38    (-0.001, 3.0]\n",
              "39      (3.0, 25.0]\n",
              "Name: shift_diff, dtype: category\n",
              "Categories (2, interval[float64]): [(-0.001, 3.0] < (3.0, 25.0]]"
            ]
          },
          "metadata": {
            "tags": []
          },
          "execution_count": 26
        }
      ]
    },
    {
      "cell_type": "code",
      "metadata": {
        "id": "ZuMM2VUBcKPa"
      },
      "source": [
        "df['shift_diff_range'] = pd.qcut(df['shift_diff'], q=2, labels=['<=3', '>3'])"
      ],
      "execution_count": null,
      "outputs": []
    },
    {
      "cell_type": "code",
      "metadata": {
        "colab": {
          "base_uri": "https://localhost:8080/"
        },
        "id": "OoUkM-9UVim8",
        "outputId": "a3bd23c8-6429-473a-d13a-fb20ac1395b7"
      },
      "source": [
        "pd.qcut(df['holidays'], q=4).tail()"
      ],
      "execution_count": null,
      "outputs": [
        {
          "output_type": "execute_result",
          "data": {
            "text/plain": [
              "35     (10.0, 11.0]\n",
              "36     (10.0, 11.0]\n",
              "37    (8.999, 10.0]\n",
              "38    (8.999, 10.0]\n",
              "39     (11.0, 12.0]\n",
              "Name: holidays, dtype: category\n",
              "Categories (4, interval[float64]): [(8.999, 10.0] < (10.0, 11.0] < (11.0, 12.0] < (12.0, 15.0]]"
            ]
          },
          "metadata": {
            "tags": []
          },
          "execution_count": 28
        }
      ]
    },
    {
      "cell_type": "code",
      "metadata": {
        "id": "L9T0z8d6cU2_"
      },
      "source": [
        "df['holidays_range'] = pd.qcut(df['holidays'], q=4, labels=['<=10','>1 <=11','>11 <= 12', '>12'])"
      ],
      "execution_count": null,
      "outputs": []
    },
    {
      "cell_type": "code",
      "metadata": {
        "colab": {
          "base_uri": "https://localhost:8080/"
        },
        "id": "qc7-UpJzXian",
        "outputId": "422b1922-051e-4542-919c-1c2ea0ea3790"
      },
      "source": [
        "pd.qcut(df['shift_diff'], q=2).tail()"
      ],
      "execution_count": null,
      "outputs": [
        {
          "output_type": "execute_result",
          "data": {
            "text/plain": [
              "35    (-0.001, 3.0]\n",
              "36    (-0.001, 3.0]\n",
              "37    (-0.001, 3.0]\n",
              "38    (-0.001, 3.0]\n",
              "39      (3.0, 25.0]\n",
              "Name: shift_diff, dtype: category\n",
              "Categories (2, interval[float64]): [(-0.001, 3.0] < (3.0, 25.0]]"
            ]
          },
          "metadata": {
            "tags": []
          },
          "execution_count": 30
        }
      ]
    },
    {
      "cell_type": "code",
      "metadata": {
        "id": "YEOhqYk6dqd3"
      },
      "source": [
        "df['shift_diff_range'] = pd.qcut(df['shift_diff'], q=2, labels=['<=3','>3'])"
      ],
      "execution_count": null,
      "outputs": []
    },
    {
      "cell_type": "code",
      "metadata": {
        "colab": {
          "base_uri": "https://localhost:8080/",
          "height": 258
        },
        "id": "FeI5Fu-1gWle",
        "outputId": "531556fc-607b-40dd-e1a7-f67a61549fe3"
      },
      "source": [
        "df.head()"
      ],
      "execution_count": null,
      "outputs": [
        {
          "output_type": "execute_result",
          "data": {
            "text/html": [
              "<div>\n",
              "<style scoped>\n",
              "    .dataframe tbody tr th:only-of-type {\n",
              "        vertical-align: middle;\n",
              "    }\n",
              "\n",
              "    .dataframe tbody tr th {\n",
              "        vertical-align: top;\n",
              "    }\n",
              "\n",
              "    .dataframe thead th {\n",
              "        text-align: right;\n",
              "    }\n",
              "</style>\n",
              "<table border=\"1\" class=\"dataframe\">\n",
              "  <thead>\n",
              "    <tr style=\"text-align: right;\">\n",
              "      <th></th>\n",
              "      <th>dur</th>\n",
              "      <th>wage1</th>\n",
              "      <th>wage2</th>\n",
              "      <th>wage3</th>\n",
              "      <th>cola</th>\n",
              "      <th>hours</th>\n",
              "      <th>pension</th>\n",
              "      <th>stby_pay</th>\n",
              "      <th>shift_diff</th>\n",
              "      <th>educ_allw</th>\n",
              "      <th>holidays</th>\n",
              "      <th>vacation</th>\n",
              "      <th>lngtrm_disabil</th>\n",
              "      <th>dntl_ins</th>\n",
              "      <th>bereavement</th>\n",
              "      <th>empl_hplan</th>\n",
              "      <th>class</th>\n",
              "      <th>dur_range</th>\n",
              "      <th>wage1_range</th>\n",
              "      <th>wage2_range</th>\n",
              "      <th>wage3_range</th>\n",
              "      <th>hours_range</th>\n",
              "      <th>stby_pay_range</th>\n",
              "      <th>shift_diff_range</th>\n",
              "      <th>holidays_range</th>\n",
              "    </tr>\n",
              "  </thead>\n",
              "  <tbody>\n",
              "    <tr>\n",
              "      <th>0</th>\n",
              "      <td>1</td>\n",
              "      <td>5.0</td>\n",
              "      <td>4.0</td>\n",
              "      <td>5.0</td>\n",
              "      <td>none</td>\n",
              "      <td>40</td>\n",
              "      <td>none</td>\n",
              "      <td>2</td>\n",
              "      <td>2</td>\n",
              "      <td>no</td>\n",
              "      <td>11</td>\n",
              "      <td>average</td>\n",
              "      <td>yes</td>\n",
              "      <td>half</td>\n",
              "      <td>yes</td>\n",
              "      <td>full</td>\n",
              "      <td>good</td>\n",
              "      <td>&lt;=2</td>\n",
              "      <td>&gt;4.3</td>\n",
              "      <td>&gt;3.75 &lt;=4</td>\n",
              "      <td>&lt;=5</td>\n",
              "      <td>&gt;40</td>\n",
              "      <td>&lt;=13</td>\n",
              "      <td>&lt;=3</td>\n",
              "      <td>&gt;1 &lt;=11</td>\n",
              "    </tr>\n",
              "    <tr>\n",
              "      <th>1</th>\n",
              "      <td>2</td>\n",
              "      <td>4.5</td>\n",
              "      <td>5.8</td>\n",
              "      <td>5.0</td>\n",
              "      <td>none</td>\n",
              "      <td>35</td>\n",
              "      <td>ret_allw</td>\n",
              "      <td>2</td>\n",
              "      <td>3</td>\n",
              "      <td>yes</td>\n",
              "      <td>11</td>\n",
              "      <td>below average</td>\n",
              "      <td>yes</td>\n",
              "      <td>full</td>\n",
              "      <td>yes</td>\n",
              "      <td>full</td>\n",
              "      <td>good</td>\n",
              "      <td>&lt;=2</td>\n",
              "      <td>&gt;4.3</td>\n",
              "      <td>&gt;4.42</td>\n",
              "      <td>&lt;=5</td>\n",
              "      <td>&lt;=38</td>\n",
              "      <td>&lt;=13</td>\n",
              "      <td>&lt;=3</td>\n",
              "      <td>&gt;1 &lt;=11</td>\n",
              "    </tr>\n",
              "    <tr>\n",
              "      <th>2</th>\n",
              "      <td>2</td>\n",
              "      <td>2.0</td>\n",
              "      <td>4.0</td>\n",
              "      <td>5.0</td>\n",
              "      <td>none</td>\n",
              "      <td>38</td>\n",
              "      <td>empl_contr</td>\n",
              "      <td>2</td>\n",
              "      <td>5</td>\n",
              "      <td>no</td>\n",
              "      <td>11</td>\n",
              "      <td>generous</td>\n",
              "      <td>yes</td>\n",
              "      <td>half</td>\n",
              "      <td>yes</td>\n",
              "      <td>half</td>\n",
              "      <td>good</td>\n",
              "      <td>&lt;=2</td>\n",
              "      <td>&lt;=2.8</td>\n",
              "      <td>&gt;3.75 &lt;=4</td>\n",
              "      <td>&lt;=5</td>\n",
              "      <td>&lt;=38</td>\n",
              "      <td>&lt;=13</td>\n",
              "      <td>&gt;3</td>\n",
              "      <td>&gt;1 &lt;=11</td>\n",
              "    </tr>\n",
              "    <tr>\n",
              "      <th>3</th>\n",
              "      <td>3</td>\n",
              "      <td>3.7</td>\n",
              "      <td>4.0</td>\n",
              "      <td>5.0</td>\n",
              "      <td>tc</td>\n",
              "      <td>40</td>\n",
              "      <td>none</td>\n",
              "      <td>2</td>\n",
              "      <td>3</td>\n",
              "      <td>yes</td>\n",
              "      <td>11</td>\n",
              "      <td>below average</td>\n",
              "      <td>yes</td>\n",
              "      <td>half</td>\n",
              "      <td>yes</td>\n",
              "      <td>full</td>\n",
              "      <td>good</td>\n",
              "      <td>&gt;2</td>\n",
              "      <td>&gt;2 &lt;=4.3</td>\n",
              "      <td>&gt;3.75 &lt;=4</td>\n",
              "      <td>&lt;=5</td>\n",
              "      <td>&gt;40</td>\n",
              "      <td>&lt;=13</td>\n",
              "      <td>&lt;=3</td>\n",
              "      <td>&gt;1 &lt;=11</td>\n",
              "    </tr>\n",
              "    <tr>\n",
              "      <th>4</th>\n",
              "      <td>3</td>\n",
              "      <td>4.5</td>\n",
              "      <td>4.5</td>\n",
              "      <td>5.0</td>\n",
              "      <td>none</td>\n",
              "      <td>40</td>\n",
              "      <td>none</td>\n",
              "      <td>2</td>\n",
              "      <td>3</td>\n",
              "      <td>no</td>\n",
              "      <td>12</td>\n",
              "      <td>average</td>\n",
              "      <td>yes</td>\n",
              "      <td>half</td>\n",
              "      <td>yes</td>\n",
              "      <td>half</td>\n",
              "      <td>good</td>\n",
              "      <td>&gt;2</td>\n",
              "      <td>&gt;4.3</td>\n",
              "      <td>&gt;4.42</td>\n",
              "      <td>&lt;=5</td>\n",
              "      <td>&gt;40</td>\n",
              "      <td>&lt;=13</td>\n",
              "      <td>&lt;=3</td>\n",
              "      <td>&gt;11 &lt;= 12</td>\n",
              "    </tr>\n",
              "  </tbody>\n",
              "</table>\n",
              "</div>"
            ],
            "text/plain": [
              "   dur  wage1  wage2  ...  stby_pay_range shift_diff_range  holidays_range\n",
              "0    1    5.0    4.0  ...            <=13              <=3         >1 <=11\n",
              "1    2    4.5    5.8  ...            <=13              <=3         >1 <=11\n",
              "2    2    2.0    4.0  ...            <=13               >3         >1 <=11\n",
              "3    3    3.7    4.0  ...            <=13              <=3         >1 <=11\n",
              "4    3    4.5    4.5  ...            <=13              <=3       >11 <= 12\n",
              "\n",
              "[5 rows x 25 columns]"
            ]
          },
          "metadata": {
            "tags": []
          },
          "execution_count": 32
        }
      ]
    },
    {
      "cell_type": "code",
      "metadata": {
        "id": "Iw-zpjspemHH"
      },
      "source": [
        "not_used_columns = [\"wage1\",\"wage2\",\"wage3\",\"dur\",\"stby_pay\",\"shift_diff\",\"holidays\",\"hours\"]\n",
        "df.drop(labels=not_used_columns, axis=1, inplace=True)"
      ],
      "execution_count": null,
      "outputs": []
    },
    {
      "cell_type": "code",
      "metadata": {
        "colab": {
          "base_uri": "https://localhost:8080/"
        },
        "id": "5mJVaR9WfW8_",
        "outputId": "0916bf7a-7831-4ad9-cf39-0c247232082a"
      },
      "source": [
        "df.shape"
      ],
      "execution_count": null,
      "outputs": [
        {
          "output_type": "execute_result",
          "data": {
            "text/plain": [
              "(40, 17)"
            ]
          },
          "metadata": {
            "tags": []
          },
          "execution_count": 34
        }
      ]
    },
    {
      "cell_type": "code",
      "metadata": {
        "id": "F9SKpiqJhd81"
      },
      "source": [
        "df_new = pd.get_dummies(df, columns=df.columns)"
      ],
      "execution_count": null,
      "outputs": []
    },
    {
      "cell_type": "code",
      "metadata": {
        "colab": {
          "base_uri": "https://localhost:8080/",
          "height": 241
        },
        "id": "_UBGZQ4IhnAk",
        "outputId": "143258aa-2e7f-41ca-f6d2-49209f01a732"
      },
      "source": [
        "df_new.head()"
      ],
      "execution_count": null,
      "outputs": [
        {
          "output_type": "execute_result",
          "data": {
            "text/html": [
              "<div>\n",
              "<style scoped>\n",
              "    .dataframe tbody tr th:only-of-type {\n",
              "        vertical-align: middle;\n",
              "    }\n",
              "\n",
              "    .dataframe tbody tr th {\n",
              "        vertical-align: top;\n",
              "    }\n",
              "\n",
              "    .dataframe thead th {\n",
              "        text-align: right;\n",
              "    }\n",
              "</style>\n",
              "<table border=\"1\" class=\"dataframe\">\n",
              "  <thead>\n",
              "    <tr style=\"text-align: right;\">\n",
              "      <th></th>\n",
              "      <th>cola_none</th>\n",
              "      <th>cola_tc</th>\n",
              "      <th>cola_tcf</th>\n",
              "      <th>pension_empl_contr</th>\n",
              "      <th>pension_none</th>\n",
              "      <th>pension_ret_allw</th>\n",
              "      <th>educ_allw_no</th>\n",
              "      <th>educ_allw_yes</th>\n",
              "      <th>vacation_average</th>\n",
              "      <th>vacation_below average</th>\n",
              "      <th>vacation_generous</th>\n",
              "      <th>lngtrm_disabil_no</th>\n",
              "      <th>lngtrm_disabil_yes</th>\n",
              "      <th>dntl_ins_full</th>\n",
              "      <th>dntl_ins_half</th>\n",
              "      <th>dntl_ins_none</th>\n",
              "      <th>bereavement_no</th>\n",
              "      <th>bereavement_yes</th>\n",
              "      <th>empl_hplan_full</th>\n",
              "      <th>empl_hplan_half</th>\n",
              "      <th>empl_hplan_none</th>\n",
              "      <th>class_bad</th>\n",
              "      <th>class_good</th>\n",
              "      <th>dur_range_&lt;=2</th>\n",
              "      <th>dur_range_&gt;2</th>\n",
              "      <th>wage1_range_&lt;=2.8</th>\n",
              "      <th>wage1_range_&gt;2 &lt;=4.3</th>\n",
              "      <th>wage1_range_&gt;4.3</th>\n",
              "      <th>wage2_range_&lt;=3.75</th>\n",
              "      <th>wage2_range_&gt;3.75 &lt;=4</th>\n",
              "      <th>wage2_range_&gt;4 &lt;=4.42</th>\n",
              "      <th>wage2_range_&gt;4.42</th>\n",
              "      <th>wage3_range_&lt;=5</th>\n",
              "      <th>wage3_range_&gt;5</th>\n",
              "      <th>hours_range_&lt;=38</th>\n",
              "      <th>hours_range_&gt;40</th>\n",
              "      <th>stby_pay_range_&lt;=13</th>\n",
              "      <th>shift_diff_range_&lt;=3</th>\n",
              "      <th>shift_diff_range_&gt;3</th>\n",
              "      <th>holidays_range_&lt;=10</th>\n",
              "      <th>holidays_range_&gt;1 &lt;=11</th>\n",
              "      <th>holidays_range_&gt;11 &lt;= 12</th>\n",
              "      <th>holidays_range_&gt;12</th>\n",
              "    </tr>\n",
              "  </thead>\n",
              "  <tbody>\n",
              "    <tr>\n",
              "      <th>0</th>\n",
              "      <td>1</td>\n",
              "      <td>0</td>\n",
              "      <td>0</td>\n",
              "      <td>0</td>\n",
              "      <td>1</td>\n",
              "      <td>0</td>\n",
              "      <td>1</td>\n",
              "      <td>0</td>\n",
              "      <td>1</td>\n",
              "      <td>0</td>\n",
              "      <td>0</td>\n",
              "      <td>0</td>\n",
              "      <td>1</td>\n",
              "      <td>0</td>\n",
              "      <td>1</td>\n",
              "      <td>0</td>\n",
              "      <td>0</td>\n",
              "      <td>1</td>\n",
              "      <td>1</td>\n",
              "      <td>0</td>\n",
              "      <td>0</td>\n",
              "      <td>0</td>\n",
              "      <td>1</td>\n",
              "      <td>1</td>\n",
              "      <td>0</td>\n",
              "      <td>0</td>\n",
              "      <td>0</td>\n",
              "      <td>1</td>\n",
              "      <td>0</td>\n",
              "      <td>1</td>\n",
              "      <td>0</td>\n",
              "      <td>0</td>\n",
              "      <td>1</td>\n",
              "      <td>0</td>\n",
              "      <td>0</td>\n",
              "      <td>1</td>\n",
              "      <td>1</td>\n",
              "      <td>1</td>\n",
              "      <td>0</td>\n",
              "      <td>0</td>\n",
              "      <td>1</td>\n",
              "      <td>0</td>\n",
              "      <td>0</td>\n",
              "    </tr>\n",
              "    <tr>\n",
              "      <th>1</th>\n",
              "      <td>1</td>\n",
              "      <td>0</td>\n",
              "      <td>0</td>\n",
              "      <td>0</td>\n",
              "      <td>0</td>\n",
              "      <td>1</td>\n",
              "      <td>0</td>\n",
              "      <td>1</td>\n",
              "      <td>0</td>\n",
              "      <td>1</td>\n",
              "      <td>0</td>\n",
              "      <td>0</td>\n",
              "      <td>1</td>\n",
              "      <td>1</td>\n",
              "      <td>0</td>\n",
              "      <td>0</td>\n",
              "      <td>0</td>\n",
              "      <td>1</td>\n",
              "      <td>1</td>\n",
              "      <td>0</td>\n",
              "      <td>0</td>\n",
              "      <td>0</td>\n",
              "      <td>1</td>\n",
              "      <td>1</td>\n",
              "      <td>0</td>\n",
              "      <td>0</td>\n",
              "      <td>0</td>\n",
              "      <td>1</td>\n",
              "      <td>0</td>\n",
              "      <td>0</td>\n",
              "      <td>0</td>\n",
              "      <td>1</td>\n",
              "      <td>1</td>\n",
              "      <td>0</td>\n",
              "      <td>1</td>\n",
              "      <td>0</td>\n",
              "      <td>1</td>\n",
              "      <td>1</td>\n",
              "      <td>0</td>\n",
              "      <td>0</td>\n",
              "      <td>1</td>\n",
              "      <td>0</td>\n",
              "      <td>0</td>\n",
              "    </tr>\n",
              "    <tr>\n",
              "      <th>2</th>\n",
              "      <td>1</td>\n",
              "      <td>0</td>\n",
              "      <td>0</td>\n",
              "      <td>1</td>\n",
              "      <td>0</td>\n",
              "      <td>0</td>\n",
              "      <td>1</td>\n",
              "      <td>0</td>\n",
              "      <td>0</td>\n",
              "      <td>0</td>\n",
              "      <td>1</td>\n",
              "      <td>0</td>\n",
              "      <td>1</td>\n",
              "      <td>0</td>\n",
              "      <td>1</td>\n",
              "      <td>0</td>\n",
              "      <td>0</td>\n",
              "      <td>1</td>\n",
              "      <td>0</td>\n",
              "      <td>1</td>\n",
              "      <td>0</td>\n",
              "      <td>0</td>\n",
              "      <td>1</td>\n",
              "      <td>1</td>\n",
              "      <td>0</td>\n",
              "      <td>1</td>\n",
              "      <td>0</td>\n",
              "      <td>0</td>\n",
              "      <td>0</td>\n",
              "      <td>1</td>\n",
              "      <td>0</td>\n",
              "      <td>0</td>\n",
              "      <td>1</td>\n",
              "      <td>0</td>\n",
              "      <td>1</td>\n",
              "      <td>0</td>\n",
              "      <td>1</td>\n",
              "      <td>0</td>\n",
              "      <td>1</td>\n",
              "      <td>0</td>\n",
              "      <td>1</td>\n",
              "      <td>0</td>\n",
              "      <td>0</td>\n",
              "    </tr>\n",
              "    <tr>\n",
              "      <th>3</th>\n",
              "      <td>0</td>\n",
              "      <td>1</td>\n",
              "      <td>0</td>\n",
              "      <td>0</td>\n",
              "      <td>1</td>\n",
              "      <td>0</td>\n",
              "      <td>0</td>\n",
              "      <td>1</td>\n",
              "      <td>0</td>\n",
              "      <td>1</td>\n",
              "      <td>0</td>\n",
              "      <td>0</td>\n",
              "      <td>1</td>\n",
              "      <td>0</td>\n",
              "      <td>1</td>\n",
              "      <td>0</td>\n",
              "      <td>0</td>\n",
              "      <td>1</td>\n",
              "      <td>1</td>\n",
              "      <td>0</td>\n",
              "      <td>0</td>\n",
              "      <td>0</td>\n",
              "      <td>1</td>\n",
              "      <td>0</td>\n",
              "      <td>1</td>\n",
              "      <td>0</td>\n",
              "      <td>1</td>\n",
              "      <td>0</td>\n",
              "      <td>0</td>\n",
              "      <td>1</td>\n",
              "      <td>0</td>\n",
              "      <td>0</td>\n",
              "      <td>1</td>\n",
              "      <td>0</td>\n",
              "      <td>0</td>\n",
              "      <td>1</td>\n",
              "      <td>1</td>\n",
              "      <td>1</td>\n",
              "      <td>0</td>\n",
              "      <td>0</td>\n",
              "      <td>1</td>\n",
              "      <td>0</td>\n",
              "      <td>0</td>\n",
              "    </tr>\n",
              "    <tr>\n",
              "      <th>4</th>\n",
              "      <td>1</td>\n",
              "      <td>0</td>\n",
              "      <td>0</td>\n",
              "      <td>0</td>\n",
              "      <td>1</td>\n",
              "      <td>0</td>\n",
              "      <td>1</td>\n",
              "      <td>0</td>\n",
              "      <td>1</td>\n",
              "      <td>0</td>\n",
              "      <td>0</td>\n",
              "      <td>0</td>\n",
              "      <td>1</td>\n",
              "      <td>0</td>\n",
              "      <td>1</td>\n",
              "      <td>0</td>\n",
              "      <td>0</td>\n",
              "      <td>1</td>\n",
              "      <td>0</td>\n",
              "      <td>1</td>\n",
              "      <td>0</td>\n",
              "      <td>0</td>\n",
              "      <td>1</td>\n",
              "      <td>0</td>\n",
              "      <td>1</td>\n",
              "      <td>0</td>\n",
              "      <td>0</td>\n",
              "      <td>1</td>\n",
              "      <td>0</td>\n",
              "      <td>0</td>\n",
              "      <td>0</td>\n",
              "      <td>1</td>\n",
              "      <td>1</td>\n",
              "      <td>0</td>\n",
              "      <td>0</td>\n",
              "      <td>1</td>\n",
              "      <td>1</td>\n",
              "      <td>1</td>\n",
              "      <td>0</td>\n",
              "      <td>0</td>\n",
              "      <td>0</td>\n",
              "      <td>1</td>\n",
              "      <td>0</td>\n",
              "    </tr>\n",
              "  </tbody>\n",
              "</table>\n",
              "</div>"
            ],
            "text/plain": [
              "   cola_none  cola_tc  ...  holidays_range_>11 <= 12  holidays_range_>12\n",
              "0          1        0  ...                         0                   0\n",
              "1          1        0  ...                         0                   0\n",
              "2          1        0  ...                         0                   0\n",
              "3          0        1  ...                         0                   0\n",
              "4          1        0  ...                         1                   0\n",
              "\n",
              "[5 rows x 43 columns]"
            ]
          },
          "metadata": {
            "tags": []
          },
          "execution_count": 36
        }
      ]
    },
    {
      "cell_type": "code",
      "metadata": {
        "colab": {
          "base_uri": "https://localhost:8080/"
        },
        "id": "LOB3benIoxCj",
        "outputId": "4f7662f4-4ce6-4496-ccc9-3a0c1989107b"
      },
      "source": [
        "df_new.duplicated().sum()"
      ],
      "execution_count": null,
      "outputs": [
        {
          "output_type": "execute_result",
          "data": {
            "text/plain": [
              "0"
            ]
          },
          "metadata": {
            "tags": []
          },
          "execution_count": 37
        }
      ]
    },
    {
      "cell_type": "code",
      "metadata": {
        "colab": {
          "base_uri": "https://localhost:8080/"
        },
        "id": "uF25eKimmiU2",
        "outputId": "e41da1cb-c917-4f4a-ee08-6ba45d362f66"
      },
      "source": [
        "df_new.shape"
      ],
      "execution_count": null,
      "outputs": [
        {
          "output_type": "execute_result",
          "data": {
            "text/plain": [
              "(40, 43)"
            ]
          },
          "metadata": {
            "tags": []
          },
          "execution_count": 38
        }
      ]
    },
    {
      "cell_type": "code",
      "metadata": {
        "id": "NQx05R_Om-qD"
      },
      "source": [
        "from mlxtend.frequent_patterns import apriori, association_rules"
      ],
      "execution_count": null,
      "outputs": []
    },
    {
      "cell_type": "code",
      "metadata": {
        "id": "IaWcaPXpnBh1"
      },
      "source": [
        "#Apriori min support\n",
        "min_support = 0.15\n",
        "\n",
        "#Max lenght of apriori n-grams\n",
        "\n",
        "frequent_items = apriori(df_new, use_colnames=True, min_support=min_support)"
      ],
      "execution_count": null,
      "outputs": []
    },
    {
      "cell_type": "code",
      "metadata": {
        "colab": {
          "base_uri": "https://localhost:8080/",
          "height": 419
        },
        "id": "3Ehv5EEynPtK",
        "outputId": "196691e6-f931-4aa2-9e07-5784613cd1e2"
      },
      "source": [
        "frequent_items"
      ],
      "execution_count": null,
      "outputs": [
        {
          "output_type": "execute_result",
          "data": {
            "text/html": [
              "<div>\n",
              "<style scoped>\n",
              "    .dataframe tbody tr th:only-of-type {\n",
              "        vertical-align: middle;\n",
              "    }\n",
              "\n",
              "    .dataframe tbody tr th {\n",
              "        vertical-align: top;\n",
              "    }\n",
              "\n",
              "    .dataframe thead th {\n",
              "        text-align: right;\n",
              "    }\n",
              "</style>\n",
              "<table border=\"1\" class=\"dataframe\">\n",
              "  <thead>\n",
              "    <tr style=\"text-align: right;\">\n",
              "      <th></th>\n",
              "      <th>support</th>\n",
              "      <th>itemsets</th>\n",
              "    </tr>\n",
              "  </thead>\n",
              "  <tbody>\n",
              "    <tr>\n",
              "      <th>0</th>\n",
              "      <td>0.750</td>\n",
              "      <td>(cola_none)</td>\n",
              "    </tr>\n",
              "    <tr>\n",
              "      <th>1</th>\n",
              "      <td>0.150</td>\n",
              "      <td>(cola_tc)</td>\n",
              "    </tr>\n",
              "    <tr>\n",
              "      <th>2</th>\n",
              "      <td>0.175</td>\n",
              "      <td>(pension_empl_contr)</td>\n",
              "    </tr>\n",
              "    <tr>\n",
              "      <th>3</th>\n",
              "      <td>0.750</td>\n",
              "      <td>(pension_none)</td>\n",
              "    </tr>\n",
              "    <tr>\n",
              "      <th>4</th>\n",
              "      <td>0.825</td>\n",
              "      <td>(educ_allw_no)</td>\n",
              "    </tr>\n",
              "    <tr>\n",
              "      <th>...</th>\n",
              "      <td>...</td>\n",
              "      <td>...</td>\n",
              "    </tr>\n",
              "    <tr>\n",
              "      <th>26774</th>\n",
              "      <td>0.150</td>\n",
              "      <td>(lngtrm_disabil_yes, bereavement_yes, dur_rang...</td>\n",
              "    </tr>\n",
              "    <tr>\n",
              "      <th>26775</th>\n",
              "      <td>0.150</td>\n",
              "      <td>(lngtrm_disabil_yes, bereavement_yes, dur_rang...</td>\n",
              "    </tr>\n",
              "    <tr>\n",
              "      <th>26776</th>\n",
              "      <td>0.150</td>\n",
              "      <td>(lngtrm_disabil_yes, dntl_ins_half, bereavemen...</td>\n",
              "    </tr>\n",
              "    <tr>\n",
              "      <th>26777</th>\n",
              "      <td>0.150</td>\n",
              "      <td>(lngtrm_disabil_yes, shift_diff_range_&gt;3, bere...</td>\n",
              "    </tr>\n",
              "    <tr>\n",
              "      <th>26778</th>\n",
              "      <td>0.150</td>\n",
              "      <td>(lngtrm_disabil_yes, bereavement_yes, dur_rang...</td>\n",
              "    </tr>\n",
              "  </tbody>\n",
              "</table>\n",
              "<p>26779 rows × 2 columns</p>\n",
              "</div>"
            ],
            "text/plain": [
              "       support                                           itemsets\n",
              "0        0.750                                        (cola_none)\n",
              "1        0.150                                          (cola_tc)\n",
              "2        0.175                               (pension_empl_contr)\n",
              "3        0.750                                     (pension_none)\n",
              "4        0.825                                     (educ_allw_no)\n",
              "...        ...                                                ...\n",
              "26774    0.150  (lngtrm_disabil_yes, bereavement_yes, dur_rang...\n",
              "26775    0.150  (lngtrm_disabil_yes, bereavement_yes, dur_rang...\n",
              "26776    0.150  (lngtrm_disabil_yes, dntl_ins_half, bereavemen...\n",
              "26777    0.150  (lngtrm_disabil_yes, shift_diff_range_>3, bere...\n",
              "26778    0.150  (lngtrm_disabil_yes, bereavement_yes, dur_rang...\n",
              "\n",
              "[26779 rows x 2 columns]"
            ]
          },
          "metadata": {
            "tags": []
          },
          "execution_count": 41
        }
      ]
    },
    {
      "cell_type": "code",
      "metadata": {
        "id": "wW2aSTobnUWS"
      },
      "source": [
        "rules = association_rules(frequent_items, metric =\"lift\", min_threshold = 1) "
      ],
      "execution_count": null,
      "outputs": []
    },
    {
      "cell_type": "code",
      "metadata": {
        "colab": {
          "base_uri": "https://localhost:8080/",
          "height": 359
        },
        "id": "0c_crOOYoDvX",
        "outputId": "fffb0d09-d935-4a17-ec0a-1d0f1fb58a86"
      },
      "source": [
        "rules.head(10).sort_values(by='confidence', ascending=False)"
      ],
      "execution_count": null,
      "outputs": [
        {
          "output_type": "execute_result",
          "data": {
            "text/html": [
              "<div>\n",
              "<style scoped>\n",
              "    .dataframe tbody tr th:only-of-type {\n",
              "        vertical-align: middle;\n",
              "    }\n",
              "\n",
              "    .dataframe tbody tr th {\n",
              "        vertical-align: top;\n",
              "    }\n",
              "\n",
              "    .dataframe thead th {\n",
              "        text-align: right;\n",
              "    }\n",
              "</style>\n",
              "<table border=\"1\" class=\"dataframe\">\n",
              "  <thead>\n",
              "    <tr style=\"text-align: right;\">\n",
              "      <th></th>\n",
              "      <th>antecedents</th>\n",
              "      <th>consequents</th>\n",
              "      <th>antecedent support</th>\n",
              "      <th>consequent support</th>\n",
              "      <th>support</th>\n",
              "      <th>confidence</th>\n",
              "      <th>lift</th>\n",
              "      <th>leverage</th>\n",
              "      <th>conviction</th>\n",
              "    </tr>\n",
              "  </thead>\n",
              "  <tbody>\n",
              "    <tr>\n",
              "      <th>6</th>\n",
              "      <td>(vacation_average)</td>\n",
              "      <td>(cola_none)</td>\n",
              "      <td>0.275</td>\n",
              "      <td>0.750</td>\n",
              "      <td>0.275</td>\n",
              "      <td>1.000000</td>\n",
              "      <td>1.333333</td>\n",
              "      <td>0.06875</td>\n",
              "      <td>inf</td>\n",
              "    </tr>\n",
              "    <tr>\n",
              "      <th>9</th>\n",
              "      <td>(cola_none)</td>\n",
              "      <td>(lngtrm_disabil_yes)</td>\n",
              "      <td>0.750</td>\n",
              "      <td>0.875</td>\n",
              "      <td>0.675</td>\n",
              "      <td>0.900000</td>\n",
              "      <td>1.028571</td>\n",
              "      <td>0.01875</td>\n",
              "      <td>1.250000</td>\n",
              "    </tr>\n",
              "    <tr>\n",
              "      <th>0</th>\n",
              "      <td>(pension_empl_contr)</td>\n",
              "      <td>(cola_none)</td>\n",
              "      <td>0.175</td>\n",
              "      <td>0.750</td>\n",
              "      <td>0.150</td>\n",
              "      <td>0.857143</td>\n",
              "      <td>1.142857</td>\n",
              "      <td>0.01875</td>\n",
              "      <td>1.750000</td>\n",
              "    </tr>\n",
              "    <tr>\n",
              "      <th>4</th>\n",
              "      <td>(cola_none)</td>\n",
              "      <td>(educ_allw_no)</td>\n",
              "      <td>0.750</td>\n",
              "      <td>0.825</td>\n",
              "      <td>0.625</td>\n",
              "      <td>0.833333</td>\n",
              "      <td>1.010101</td>\n",
              "      <td>0.00625</td>\n",
              "      <td>1.050000</td>\n",
              "    </tr>\n",
              "    <tr>\n",
              "      <th>8</th>\n",
              "      <td>(lngtrm_disabil_yes)</td>\n",
              "      <td>(cola_none)</td>\n",
              "      <td>0.875</td>\n",
              "      <td>0.750</td>\n",
              "      <td>0.675</td>\n",
              "      <td>0.771429</td>\n",
              "      <td>1.028571</td>\n",
              "      <td>0.01875</td>\n",
              "      <td>1.093750</td>\n",
              "    </tr>\n",
              "    <tr>\n",
              "      <th>2</th>\n",
              "      <td>(pension_none)</td>\n",
              "      <td>(cola_none)</td>\n",
              "      <td>0.750</td>\n",
              "      <td>0.750</td>\n",
              "      <td>0.575</td>\n",
              "      <td>0.766667</td>\n",
              "      <td>1.022222</td>\n",
              "      <td>0.01250</td>\n",
              "      <td>1.071429</td>\n",
              "    </tr>\n",
              "    <tr>\n",
              "      <th>3</th>\n",
              "      <td>(cola_none)</td>\n",
              "      <td>(pension_none)</td>\n",
              "      <td>0.750</td>\n",
              "      <td>0.750</td>\n",
              "      <td>0.575</td>\n",
              "      <td>0.766667</td>\n",
              "      <td>1.022222</td>\n",
              "      <td>0.01250</td>\n",
              "      <td>1.071429</td>\n",
              "    </tr>\n",
              "    <tr>\n",
              "      <th>5</th>\n",
              "      <td>(educ_allw_no)</td>\n",
              "      <td>(cola_none)</td>\n",
              "      <td>0.825</td>\n",
              "      <td>0.750</td>\n",
              "      <td>0.625</td>\n",
              "      <td>0.757576</td>\n",
              "      <td>1.010101</td>\n",
              "      <td>0.00625</td>\n",
              "      <td>1.031250</td>\n",
              "    </tr>\n",
              "    <tr>\n",
              "      <th>7</th>\n",
              "      <td>(cola_none)</td>\n",
              "      <td>(vacation_average)</td>\n",
              "      <td>0.750</td>\n",
              "      <td>0.275</td>\n",
              "      <td>0.275</td>\n",
              "      <td>0.366667</td>\n",
              "      <td>1.333333</td>\n",
              "      <td>0.06875</td>\n",
              "      <td>1.144737</td>\n",
              "    </tr>\n",
              "    <tr>\n",
              "      <th>1</th>\n",
              "      <td>(cola_none)</td>\n",
              "      <td>(pension_empl_contr)</td>\n",
              "      <td>0.750</td>\n",
              "      <td>0.175</td>\n",
              "      <td>0.150</td>\n",
              "      <td>0.200000</td>\n",
              "      <td>1.142857</td>\n",
              "      <td>0.01875</td>\n",
              "      <td>1.031250</td>\n",
              "    </tr>\n",
              "  </tbody>\n",
              "</table>\n",
              "</div>"
            ],
            "text/plain": [
              "            antecedents           consequents  ...  leverage  conviction\n",
              "6    (vacation_average)           (cola_none)  ...   0.06875         inf\n",
              "9           (cola_none)  (lngtrm_disabil_yes)  ...   0.01875    1.250000\n",
              "0  (pension_empl_contr)           (cola_none)  ...   0.01875    1.750000\n",
              "4           (cola_none)        (educ_allw_no)  ...   0.00625    1.050000\n",
              "8  (lngtrm_disabil_yes)           (cola_none)  ...   0.01875    1.093750\n",
              "2        (pension_none)           (cola_none)  ...   0.01250    1.071429\n",
              "3           (cola_none)        (pension_none)  ...   0.01250    1.071429\n",
              "5        (educ_allw_no)           (cola_none)  ...   0.00625    1.031250\n",
              "7           (cola_none)    (vacation_average)  ...   0.06875    1.144737\n",
              "1           (cola_none)  (pension_empl_contr)  ...   0.01875    1.031250\n",
              "\n",
              "[10 rows x 9 columns]"
            ]
          },
          "metadata": {
            "tags": []
          },
          "execution_count": 47
        }
      ]
    },
    {
      "cell_type": "code",
      "metadata": {
        "colab": {
          "base_uri": "https://localhost:8080/"
        },
        "id": "QqdA7smdHTOk",
        "outputId": "9bf70288-58d8-486b-d6c4-c4ebf2be4be0"
      },
      "source": [
        "rules.shape"
      ],
      "execution_count": null,
      "outputs": [
        {
          "output_type": "execute_result",
          "data": {
            "text/plain": [
              "(1988718, 9)"
            ]
          },
          "metadata": {
            "tags": []
          },
          "execution_count": 44
        }
      ]
    },
    {
      "cell_type": "code",
      "metadata": {
        "colab": {
          "base_uri": "https://localhost:8080/"
        },
        "id": "KjV5_E5VpjBI",
        "outputId": "cea95d87-41e4-446b-db66-1fe14ab0e4ca"
      },
      "source": [
        "df['class'].value_counts()"
      ],
      "execution_count": null,
      "outputs": [
        {
          "output_type": "execute_result",
          "data": {
            "text/plain": [
              "good    26\n",
              "bad     14\n",
              "Name: class, dtype: int64"
            ]
          },
          "metadata": {
            "tags": []
          },
          "execution_count": 398
        }
      ]
    },
    {
      "cell_type": "code",
      "metadata": {
        "id": "eyF5wSDWpuWQ"
      },
      "source": [
        "\n",
        "min_support = 0.2\n",
        "\n",
        "\n",
        "max_len = 10\n",
        "\n",
        "frequent_items = apriori(df, use_colnames=True, min_support=min_support, max_len=max_len + 1)\n",
        "rules = association_rules(frequent_items, metric='lift', min_threshold=1)\n",
        "\n",
        "target = '{\\'Attrition_No\\'}'\n",
        "\n",
        "results_attrition_no = rules[rules['consequents'].astype(str).str.contains(target, na=False)].sort_values(by='confidence', ascending=False)\n",
        "\n",
        "results_attrition_no.head(10)"
      ],
      "execution_count": null,
      "outputs": []
    }
  ]
}